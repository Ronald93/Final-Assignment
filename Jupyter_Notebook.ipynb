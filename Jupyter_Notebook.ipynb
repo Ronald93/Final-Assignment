{
  "metadata": {
    "kernelspec": {
      "name": "python",
      "display_name": "Pyolite",
      "language": "python"
    },
    "language_info": {
      "codemirror_mode": {
        "name": "python",
        "version": 3
      },
      "file_extension": ".py",
      "mimetype": "text/x-python",
      "name": "python",
      "nbconvert_exporter": "python",
      "pygments_lexer": "ipython3",
      "version": "3.8"
    }
  },
  "nbformat_minor": 4,
  "nbformat": 4,
  "cells": [
    {
      "cell_type": "markdown",
      "source": "# My Jupyter Notebook on IBM Watson Studio",
      "metadata": {}
    },
    {
      "cell_type": "markdown",
      "source": "## Tafadzwa Ronald Muzenda\nCivil Engineer",
      "metadata": {}
    },
    {
      "cell_type": "markdown",
      "source": "I am interested in data science because I see the potential that this field has already fufilled and still possesses for the future.",
      "metadata": {}
    },
    {
      "cell_type": "markdown",
      "source": "### Below is a code to add making calculations with predefined numbers\nFor some reason this simple code continues to fail to run on SKN for me",
      "metadata": {}
    },
    {
      "cell_type": "code",
      "source": "a = 1\nb = 2\nprint(a + b)",
      "metadata": {},
      "execution_count": null,
      "outputs": []
    },
    {
      "cell_type": "markdown",
      "source": "### Rows, columns, number lists",
      "metadata": {}
    },
    {
      "cell_type": "markdown",
      "source": "| Sample | Cement 1 | Cement 2 |\n| ------ | ------ | ------ |\n| Paste flow | 200 | 180 |",
      "metadata": {}
    },
    {
      "cell_type": "code",
      "source": "blob = [\"a\", \"b\", \"c\", \"d\", \"e\", \"f\"]\nfor number, letter in enumerate(blob):\n    print(number, letter)",
      "metadata": {
        "trusted": true
      },
      "execution_count": 5,
      "outputs": [
        {
          "name": "stdout",
          "text": "0 a\n1 b\n2 c\n3 d\n4 e\n5 f\n",
          "output_type": "stream"
        }
      ]
    },
    {
      "cell_type": "markdown",
      "source": "## 'JUST DO IT!'",
      "metadata": {}
    }
  ]
}
